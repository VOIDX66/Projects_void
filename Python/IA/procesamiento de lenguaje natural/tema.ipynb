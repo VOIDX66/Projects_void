{
 "cells": [
  {
   "cell_type": "markdown",
   "metadata": {},
   "source": [
    "# **Tema**\n",
    "---\n",
    "## **Procesamiento del Lenguaje Natural**\n",
    "### **1.** Introducción (Eliza)\n",
    "### **2.** Corrector Ortograficó\n",
    "### **3.** Utilización de Librerias en Python TextBlob\n",
    "### **4.** Revisión punto 2.\n",
    "### **5.** Resumen de Texto (Revisión de NotebookLM de google)\n",
    "### **6.** Creacion Herramienta para realizar Resúmenes\n",
    "### **7.** Traductor de Ingles a Español\n",
    "\n",
    "Cualquier Editor, puede saber que palabras"
   ]
  }
 ],
 "metadata": {
  "kernelspec": {
   "display_name": "Python 3",
   "language": "python",
   "name": "python3"
  },
  "language_info": {
   "codemirror_mode": {
    "name": "ipython",
    "version": 3
   },
   "file_extension": ".py",
   "mimetype": "text/x-python",
   "name": "python",
   "nbconvert_exporter": "python",
   "pygments_lexer": "ipython3",
   "version": "3.12.6"
  }
 },
 "nbformat": 4,
 "nbformat_minor": 2
}
