{
 "cells": [
  {
   "cell_type": "markdown",
   "metadata": {},
   "source": [
    "# __Algoritmo A* Con Heurisitca del MST__"
   ]
  },
  {
   "cell_type": "code",
   "execution_count": 16,
   "metadata": {},
   "outputs": [],
   "source": [
    "import math\n",
    "import heapq\n",
    "import random\n",
    "import time\n",
    "import matplotlib as plt"
   ]
  },
  {
   "cell_type": "markdown",
   "metadata": {},
   "source": [
    "## Creacion de la Clase Nodo\n",
    "\n",
    "En esta clase guardaremos nuestras coordenadas por ciudad x, y pensando que estamos en un rectangulo"
   ]
  },
  {
   "cell_type": "code",
   "execution_count": 39,
   "metadata": {},
   "outputs": [],
   "source": [
    "class Node:\n",
    "    def __init__(self, x, y):\n",
    "        self.x = x\n",
    "        self.y = y\n",
    "\n",
    "    def __hash__(self):\n",
    "        return hash((self.x, self.y))\n",
    "\n",
    "    def __eq__(self, other):\n",
    "        return isinstance(other, Node) and self.x == other.x and self.y == other.y    \n",
    "    \n",
    "    def __str__(self):\n",
    "        return f'Node({self.x}, {self.y})'"
   ]
  },
  {
   "cell_type": "markdown",
   "metadata": {},
   "source": [
    "## Creacion de ciudades aleatorias\n",
    "\n",
    "Definimos una funcion para la creacion de ciudades aleatorias y así tener diferentes instancias para cada ejecución"
   ]
  },
  {
   "cell_type": "code",
   "execution_count": 40,
   "metadata": {},
   "outputs": [],
   "source": [
    "def random_cities(n, width=5000, height=2000):\n",
    "    cities = set()\n",
    "    while len(cities) < n:\n",
    "        width  = random.randint(0, width)\n",
    "        height = random.randint(0, height)\n",
    "        cities.add(Node(width, height))\n",
    "    return cities"
   ]
  },
  {
   "cell_type": "code",
   "execution_count": 43,
   "metadata": {},
   "outputs": [
    {
     "name": "stdout",
     "output_type": "stream",
     "text": [
      "Node(1039, 61)\n",
      "Node(2166, 466)\n",
      "Node(2866, 1226)\n",
      "Node(1532, 152)\n",
      "Node(2247, 491)\n"
     ]
    }
   ],
   "source": [
    "ciudades = random_cities(5)\n",
    "for cities in ciudades:\n",
    "    print(cities)"
   ]
  },
  {
   "cell_type": "markdown",
   "metadata": {},
   "source": [
    "## Heuristica Árbol de Expansion Minima MST"
   ]
  },
  {
   "cell_type": "markdown",
   "metadata": {},
   "source": [
    "Para nuestro algoritmo A* implementaremos la heuristica del MST, pero para poder hacerlo primero necestiamos una funcion de distancia entre nodos"
   ]
  },
  {
   "cell_type": "code",
   "execution_count": 44,
   "metadata": {},
   "outputs": [],
   "source": [
    "def distance(nodo1, nodo2):\n",
    "    # Calcula la distancia euclidiana entre dos nodos\n",
    "    return math.sqrt((nodo1.x - nodo2.x) ** 2 + (nodo1.y - nodo2.y) ** 2)"
   ]
  },
  {
   "cell_type": "markdown",
   "metadata": {},
   "source": [
    "Implementacion del MST con algoritmo de PRIM"
   ]
  },
  {
   "cell_type": "code",
   "execution_count": null,
   "metadata": {},
   "outputs": [],
   "source": [
    "def mst_prim(cities):\n",
    "    # Elegimos un nodo inicial arbitrario\n",
    "    cities = list(random_cities)\n",
    "    initial_node = cities[0]\n",
    "    \n",
    "    # Creamos un conjunto para los nodos visitados y un heap para las aristas\n",
    "    visitados = set([initial_node])\n",
    "    aristas = [(distance(initial_node, vecino), nodo_inicial, vecino) for vecino in ciudades if vecino != nodo_inicial]\n",
    "    heapq.heapify(aristas)\n",
    "\n",
    "    costo_total = 0\n",
    "\n",
    "    while aristas and len(visitados) < len(ciudades):\n",
    "        # Elegimos la arista de menor costo\n",
    "        costo, desde, hacia = heapq.heappop(aristas)\n",
    "        \n",
    "        if hacia not in visitados:\n",
    "            visitados.add(hacia)\n",
    "            costo_total += costo\n",
    "            \n",
    "            # Añadimos las nuevas aristas desde el nodo agregado\n",
    "            for vecino in ciudades:\n",
    "                if vecino not in visitados:\n",
    "                    heapq.heappush(aristas, (distancia(hacia, vecino), hacia, vecino))\n",
    "\n",
    "    return costo_total\n"
   ]
  }
 ],
 "metadata": {
  "kernelspec": {
   "display_name": "Python 3",
   "language": "python",
   "name": "python3"
  },
  "language_info": {
   "codemirror_mode": {
    "name": "ipython",
    "version": 3
   },
   "file_extension": ".py",
   "mimetype": "text/x-python",
   "name": "python",
   "nbconvert_exporter": "python",
   "pygments_lexer": "ipython3",
   "version": "3.12.7"
  }
 },
 "nbformat": 4,
 "nbformat_minor": 2
}
