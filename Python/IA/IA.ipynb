{
 "cells": [
  {
   "cell_type": "markdown",
   "metadata": {},
   "source": [
    "# Tema\n",
    "----------------------------------------------------------------\n",
    "## Procesamiento del Lenguaje Natural\n",
    "### 1. Introducción (Eliza)\n",
    "### 2. Corrector Ortograficó\n",
    "### 3. Utilización de Librerias en Python TextBlob\n",
    "### 4. Revisión punto 2.\n",
    "### 5. Resumen de Texto (Revisión de NotebookLM de google)\n"
   ]
  }
 ],
 "metadata": {
  "kernelspec": {
   "display_name": "Python 3",
   "language": "python",
   "name": "python3"
  },
  "language_info": {
   "name": "python",
   "version": "3.12.6"
  }
 },
 "nbformat": 4,
 "nbformat_minor": 2
}
