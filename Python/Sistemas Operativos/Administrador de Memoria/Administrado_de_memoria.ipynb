{
 "cells": [
  {
   "cell_type": "markdown",
   "metadata": {},
   "source": [
    "# **El Administrador de Memoria**"
   ]
  },
  {
   "cell_type": "markdown",
   "metadata": {},
   "source": [
    "<img src=\"imagen0.jpg\" alt=\"Memoria\" width=\"600\" height=\"300\">"
   ]
  },
  {
   "cell_type": "markdown",
   "metadata": {},
   "source": [
    "<img src=\"imagen2.jpg\" alt=\"Memoria\" width=\"500\" height=\"300\">"
   ]
  },
  {
   "cell_type": "markdown",
   "metadata": {},
   "source": [
    "<img src=\"imagen3.jpg\" alt=\"Memoria\" width=\"500\" height=\"300\">"
   ]
  },
  {
   "cell_type": "markdown",
   "metadata": {},
   "source": [
    "### FUNCIONES"
   ]
  },
  {
   "cell_type": "markdown",
   "metadata": {},
   "source": [
    "- Llevar registros (Ocupado / Desocupado)\n",
    "- Asignar espacio\n",
    "- Liberar espacio\n",
    "- Administar Intercambio (Expandir Memoria)"
   ]
  },
  {
   "cell_type": "markdown",
   "metadata": {},
   "source": [
    "Recurso limitado en los inicios.\n",
    "Buen aprovechamiento <-> Buena Administración\n"
   ]
  },
  {
   "cell_type": "markdown",
   "metadata": {},
   "source": [
    "- **Cache 1:** Orden KB empaquetados en chipsen chip con pocos nano segundos de acceso. \n",
    "- **Cache 2:** Orden KB <-> 12-20 nano segundos.\n",
    "- **Ram:** Orden GB <-> 70 nano segundos.\n",
    "- **Secundaria:** Orden TB <-> 8 msegundos."
   ]
  },
  {
   "cell_type": "markdown",
   "metadata": {},
   "source": [
    "## Administración Basica"
   ]
  },
  {
   "cell_type": "markdown",
   "metadata": {},
   "source": [
    "### Monoprogramación: Un solo programa ejecutado."
   ]
  },
  {
   "cell_type": "markdown",
   "metadata": {},
   "source": [
    "<img src=\"imagen4.jpg\" alt=\"Memoria\" width=\"800\" height=\"300\">"
   ]
  },
  {
   "cell_type": "markdown",
   "metadata": {},
   "source": [
    "### Multiprogramación con Particiones Fijas"
   ]
  },
  {
   "cell_type": "markdown",
   "metadata": {},
   "source": [
    "<img src=\"imagen5.jpg\" alt=\"Memoria\" width=\"800\" height=\"300\">"
   ]
  },
  {
   "cell_type": "markdown",
   "metadata": {},
   "source": [
    "## Problemas Adicionales\n",
    "\n",
    "# **Reubicación + Protección:**"
   ]
  },
  {
   "cell_type": "markdown",
   "metadata": {},
   "source": [
    "Si un mismo programa se ejecuta varias veces, no siempre va a quedar en la misma partición. **¿Qué pasa con el direccionamiento?**\n",
    "\n",
    "Este problema realmente puede suceder en:\n",
    "- Tiempo de compilación.\n",
    "- Tiempo de Carga.\n",
    "- Tiempo de ejecución.\n",
    "\n",
    "Además de la reubicación tenemos el problema de la protección. Queremos que un programa ejecutano en una partición <p> no pueda **r/w** en la memoria de otros programas."
   ]
  },
  {
   "cell_type": "markdown",
   "metadata": {},
   "source": [
    "## **SOLUCIÓN M.M.U**"
   ]
  }
 ],
 "metadata": {
  "language_info": {
   "name": "python"
  }
 },
 "nbformat": 4,
 "nbformat_minor": 2
}
